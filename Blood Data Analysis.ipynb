{
 "cells": [
  {
   "cell_type": "markdown",
   "metadata": {},
   "source": [
    "# note;\n",
    "the data given has several variables namely heartrate(hr), average blood pressure(avg_bp), amplitude of the pulse(amp) and other variables"
   ]
  },
  {
   "cell_type": "code",
   "execution_count": 1,
   "metadata": {},
   "outputs": [],
   "source": [
    "import pandas as pd\n",
    "import numpy as np\n",
    "import matplotlib.pyplot as plt\n",
    "from sklearn import linear_model"
   ]
  },
  {
   "cell_type": "code",
   "execution_count": 2,
   "metadata": {},
   "outputs": [
    {
     "data": {
      "text/html": [
       "<div>\n",
       "<style scoped>\n",
       "    .dataframe tbody tr th:only-of-type {\n",
       "        vertical-align: middle;\n",
       "    }\n",
       "\n",
       "    .dataframe tbody tr th {\n",
       "        vertical-align: top;\n",
       "    }\n",
       "\n",
       "    .dataframe thead th {\n",
       "        text-align: right;\n",
       "    }\n",
       "</style>\n",
       "<table border=\"1\" class=\"dataframe\">\n",
       "  <thead>\n",
       "    <tr style=\"text-align: right;\">\n",
       "      <th></th>\n",
       "      <th>hr</th>\n",
       "      <th>avg_bp</th>\n",
       "      <th>amp</th>\n",
       "      <th>d</th>\n",
       "      <th>f</th>\n",
       "      <th>b</th>\n",
       "      <th>s</th>\n",
       "      <th>rho</th>\n",
       "      <th>mu</th>\n",
       "      <th>wss</th>\n",
       "      <th>qf</th>\n",
       "    </tr>\n",
       "  </thead>\n",
       "  <tbody>\n",
       "    <tr>\n",
       "      <th>0</th>\n",
       "      <td>70.0</td>\n",
       "      <td>12352.5</td>\n",
       "      <td>5465.3</td>\n",
       "      <td>0.010158</td>\n",
       "      <td>0.01</td>\n",
       "      <td>-0.05</td>\n",
       "      <td>0.010</td>\n",
       "      <td>1055.0</td>\n",
       "      <td>0.00552</td>\n",
       "      <td>2.340000e-08</td>\n",
       "      <td>-0.000003</td>\n",
       "    </tr>\n",
       "    <tr>\n",
       "      <th>1</th>\n",
       "      <td>72.0</td>\n",
       "      <td>12352.5</td>\n",
       "      <td>5465.3</td>\n",
       "      <td>0.010158</td>\n",
       "      <td>0.01</td>\n",
       "      <td>-0.05</td>\n",
       "      <td>0.010</td>\n",
       "      <td>1055.0</td>\n",
       "      <td>0.00552</td>\n",
       "      <td>2.220000e-08</td>\n",
       "      <td>-0.000003</td>\n",
       "    </tr>\n",
       "    <tr>\n",
       "      <th>2</th>\n",
       "      <td>73.0</td>\n",
       "      <td>12352.5</td>\n",
       "      <td>5465.3</td>\n",
       "      <td>0.010158</td>\n",
       "      <td>0.01</td>\n",
       "      <td>-0.05</td>\n",
       "      <td>0.010</td>\n",
       "      <td>1055.0</td>\n",
       "      <td>0.00552</td>\n",
       "      <td>2.170000e-08</td>\n",
       "      <td>-0.000003</td>\n",
       "    </tr>\n",
       "    <tr>\n",
       "      <th>3</th>\n",
       "      <td>70.0</td>\n",
       "      <td>12352.5</td>\n",
       "      <td>5465.3</td>\n",
       "      <td>0.010158</td>\n",
       "      <td>0.01</td>\n",
       "      <td>-0.05</td>\n",
       "      <td>0.001</td>\n",
       "      <td>1055.0</td>\n",
       "      <td>0.00552</td>\n",
       "      <td>2.320000e-08</td>\n",
       "      <td>-0.000003</td>\n",
       "    </tr>\n",
       "    <tr>\n",
       "      <th>4</th>\n",
       "      <td>72.0</td>\n",
       "      <td>12352.5</td>\n",
       "      <td>5465.3</td>\n",
       "      <td>0.010158</td>\n",
       "      <td>0.01</td>\n",
       "      <td>-0.05</td>\n",
       "      <td>0.001</td>\n",
       "      <td>1055.0</td>\n",
       "      <td>0.00552</td>\n",
       "      <td>2.210000e-08</td>\n",
       "      <td>-0.000003</td>\n",
       "    </tr>\n",
       "  </tbody>\n",
       "</table>\n",
       "</div>"
      ],
      "text/plain": [
       "     hr   avg_bp     amp         d     f     b      s     rho       mu  \\\n",
       "0  70.0  12352.5  5465.3  0.010158  0.01 -0.05  0.010  1055.0  0.00552   \n",
       "1  72.0  12352.5  5465.3  0.010158  0.01 -0.05  0.010  1055.0  0.00552   \n",
       "2  73.0  12352.5  5465.3  0.010158  0.01 -0.05  0.010  1055.0  0.00552   \n",
       "3  70.0  12352.5  5465.3  0.010158  0.01 -0.05  0.001  1055.0  0.00552   \n",
       "4  72.0  12352.5  5465.3  0.010158  0.01 -0.05  0.001  1055.0  0.00552   \n",
       "\n",
       "            wss        qf  \n",
       "0  2.340000e-08 -0.000003  \n",
       "1  2.220000e-08 -0.000003  \n",
       "2  2.170000e-08 -0.000003  \n",
       "3  2.320000e-08 -0.000003  \n",
       "4  2.210000e-08 -0.000003  "
      ]
     },
     "execution_count": 2,
     "metadata": {},
     "output_type": "execute_result"
    }
   ],
   "source": [
    "df = pd.read_csv(\"C:\\Ruthvik\\Academics\\SOP\\CSV files\\data_blood_modified.csv\")\n",
    "df.head()"
   ]
  },
  {
   "cell_type": "markdown",
   "metadata": {},
   "source": [
    "entries in avg_bp seems to be the same, but the given data set is too large and there are different entries for avg_bp itself going futher into the set"
   ]
  },
  {
   "cell_type": "code",
   "execution_count": 3,
   "metadata": {},
   "outputs": [
    {
     "data": {
      "text/html": [
       "<div>\n",
       "<style scoped>\n",
       "    .dataframe tbody tr th:only-of-type {\n",
       "        vertical-align: middle;\n",
       "    }\n",
       "\n",
       "    .dataframe tbody tr th {\n",
       "        vertical-align: top;\n",
       "    }\n",
       "\n",
       "    .dataframe thead th {\n",
       "        text-align: right;\n",
       "    }\n",
       "</style>\n",
       "<table border=\"1\" class=\"dataframe\">\n",
       "  <thead>\n",
       "    <tr style=\"text-align: right;\">\n",
       "      <th></th>\n",
       "      <th>hr</th>\n",
       "      <th>avg_bp</th>\n",
       "      <th>amp</th>\n",
       "      <th>rho</th>\n",
       "      <th>mu</th>\n",
       "      <th>wss</th>\n",
       "      <th>qf</th>\n",
       "    </tr>\n",
       "  </thead>\n",
       "  <tbody>\n",
       "    <tr>\n",
       "      <th>0</th>\n",
       "      <td>70.0</td>\n",
       "      <td>12352.5</td>\n",
       "      <td>5465.3</td>\n",
       "      <td>1055.0</td>\n",
       "      <td>0.00552</td>\n",
       "      <td>2.340000e-08</td>\n",
       "      <td>-0.000003</td>\n",
       "    </tr>\n",
       "    <tr>\n",
       "      <th>1</th>\n",
       "      <td>72.0</td>\n",
       "      <td>12352.5</td>\n",
       "      <td>5465.3</td>\n",
       "      <td>1055.0</td>\n",
       "      <td>0.00552</td>\n",
       "      <td>2.220000e-08</td>\n",
       "      <td>-0.000003</td>\n",
       "    </tr>\n",
       "    <tr>\n",
       "      <th>2</th>\n",
       "      <td>73.0</td>\n",
       "      <td>12352.5</td>\n",
       "      <td>5465.3</td>\n",
       "      <td>1055.0</td>\n",
       "      <td>0.00552</td>\n",
       "      <td>2.170000e-08</td>\n",
       "      <td>-0.000003</td>\n",
       "    </tr>\n",
       "    <tr>\n",
       "      <th>3</th>\n",
       "      <td>70.0</td>\n",
       "      <td>12352.5</td>\n",
       "      <td>5465.3</td>\n",
       "      <td>1055.0</td>\n",
       "      <td>0.00552</td>\n",
       "      <td>2.320000e-08</td>\n",
       "      <td>-0.000003</td>\n",
       "    </tr>\n",
       "    <tr>\n",
       "      <th>4</th>\n",
       "      <td>72.0</td>\n",
       "      <td>12352.5</td>\n",
       "      <td>5465.3</td>\n",
       "      <td>1055.0</td>\n",
       "      <td>0.00552</td>\n",
       "      <td>2.210000e-08</td>\n",
       "      <td>-0.000003</td>\n",
       "    </tr>\n",
       "  </tbody>\n",
       "</table>\n",
       "</div>"
      ],
      "text/plain": [
       "     hr   avg_bp     amp     rho       mu           wss        qf\n",
       "0  70.0  12352.5  5465.3  1055.0  0.00552  2.340000e-08 -0.000003\n",
       "1  72.0  12352.5  5465.3  1055.0  0.00552  2.220000e-08 -0.000003\n",
       "2  73.0  12352.5  5465.3  1055.0  0.00552  2.170000e-08 -0.000003\n",
       "3  70.0  12352.5  5465.3  1055.0  0.00552  2.320000e-08 -0.000003\n",
       "4  72.0  12352.5  5465.3  1055.0  0.00552  2.210000e-08 -0.000003"
      ]
     },
     "execution_count": 3,
     "metadata": {},
     "output_type": "execute_result"
    }
   ],
   "source": [
    "df1=df[['hr','avg_bp','amp','rho','mu','wss','qf']]\n",
    "df1.head()"
   ]
  },
  {
   "cell_type": "code",
   "execution_count": 4,
   "metadata": {},
   "outputs": [
    {
     "data": {
      "text/plain": [
       "numpy.float64"
      ]
     },
     "execution_count": 4,
     "metadata": {},
     "output_type": "execute_result"
    }
   ],
   "source": [
    "type(df.iloc[1]['wss'])"
   ]
  },
  {
   "cell_type": "code",
   "execution_count": 5,
   "metadata": {},
   "outputs": [],
   "source": [
    "df1 = df1.iloc[0:43740]"
   ]
  },
  {
   "cell_type": "code",
   "execution_count": 6,
   "metadata": {},
   "outputs": [
    {
     "data": {
      "text/html": [
       "<div>\n",
       "<style scoped>\n",
       "    .dataframe tbody tr th:only-of-type {\n",
       "        vertical-align: middle;\n",
       "    }\n",
       "\n",
       "    .dataframe tbody tr th {\n",
       "        vertical-align: top;\n",
       "    }\n",
       "\n",
       "    .dataframe thead th {\n",
       "        text-align: right;\n",
       "    }\n",
       "</style>\n",
       "<table border=\"1\" class=\"dataframe\">\n",
       "  <thead>\n",
       "    <tr style=\"text-align: right;\">\n",
       "      <th></th>\n",
       "      <th>hr</th>\n",
       "      <th>avg_bp</th>\n",
       "      <th>amp</th>\n",
       "      <th>rho</th>\n",
       "      <th>mu</th>\n",
       "      <th>wss</th>\n",
       "      <th>qf</th>\n",
       "    </tr>\n",
       "  </thead>\n",
       "  <tbody>\n",
       "    <tr>\n",
       "      <th>0</th>\n",
       "      <td>70.0</td>\n",
       "      <td>12352.5</td>\n",
       "      <td>5465.3</td>\n",
       "      <td>1055.0</td>\n",
       "      <td>0.00552</td>\n",
       "      <td>2.340000e-08</td>\n",
       "      <td>-0.000003</td>\n",
       "    </tr>\n",
       "    <tr>\n",
       "      <th>1</th>\n",
       "      <td>72.0</td>\n",
       "      <td>12352.5</td>\n",
       "      <td>5465.3</td>\n",
       "      <td>1055.0</td>\n",
       "      <td>0.00552</td>\n",
       "      <td>2.220000e-08</td>\n",
       "      <td>-0.000003</td>\n",
       "    </tr>\n",
       "    <tr>\n",
       "      <th>2</th>\n",
       "      <td>73.0</td>\n",
       "      <td>12352.5</td>\n",
       "      <td>5465.3</td>\n",
       "      <td>1055.0</td>\n",
       "      <td>0.00552</td>\n",
       "      <td>2.170000e-08</td>\n",
       "      <td>-0.000003</td>\n",
       "    </tr>\n",
       "    <tr>\n",
       "      <th>3</th>\n",
       "      <td>70.0</td>\n",
       "      <td>12352.5</td>\n",
       "      <td>5465.3</td>\n",
       "      <td>1055.0</td>\n",
       "      <td>0.00552</td>\n",
       "      <td>2.320000e-08</td>\n",
       "      <td>-0.000003</td>\n",
       "    </tr>\n",
       "    <tr>\n",
       "      <th>4</th>\n",
       "      <td>72.0</td>\n",
       "      <td>12352.5</td>\n",
       "      <td>5465.3</td>\n",
       "      <td>1055.0</td>\n",
       "      <td>0.00552</td>\n",
       "      <td>2.210000e-08</td>\n",
       "      <td>-0.000003</td>\n",
       "    </tr>\n",
       "    <tr>\n",
       "      <th>...</th>\n",
       "      <td>...</td>\n",
       "      <td>...</td>\n",
       "      <td>...</td>\n",
       "      <td>...</td>\n",
       "      <td>...</td>\n",
       "      <td>...</td>\n",
       "      <td>...</td>\n",
       "    </tr>\n",
       "    <tr>\n",
       "      <th>43735</th>\n",
       "      <td>72.0</td>\n",
       "      <td>13818.8</td>\n",
       "      <td>6265.1</td>\n",
       "      <td>1061.2</td>\n",
       "      <td>0.00686</td>\n",
       "      <td>2.741220e+00</td>\n",
       "      <td>-0.210993</td>\n",
       "    </tr>\n",
       "    <tr>\n",
       "      <th>43736</th>\n",
       "      <td>73.0</td>\n",
       "      <td>13818.8</td>\n",
       "      <td>6265.1</td>\n",
       "      <td>1061.2</td>\n",
       "      <td>0.00686</td>\n",
       "      <td>2.666640e+00</td>\n",
       "      <td>-0.205252</td>\n",
       "    </tr>\n",
       "    <tr>\n",
       "      <th>43737</th>\n",
       "      <td>70.0</td>\n",
       "      <td>13818.8</td>\n",
       "      <td>6265.1</td>\n",
       "      <td>1061.2</td>\n",
       "      <td>0.00686</td>\n",
       "      <td>2.034210e+00</td>\n",
       "      <td>-0.109831</td>\n",
       "    </tr>\n",
       "    <tr>\n",
       "      <th>43738</th>\n",
       "      <td>72.0</td>\n",
       "      <td>13818.8</td>\n",
       "      <td>6265.1</td>\n",
       "      <td>1061.2</td>\n",
       "      <td>0.00686</td>\n",
       "      <td>1.922770e+00</td>\n",
       "      <td>-0.103814</td>\n",
       "    </tr>\n",
       "    <tr>\n",
       "      <th>43739</th>\n",
       "      <td>73.0</td>\n",
       "      <td>13818.8</td>\n",
       "      <td>6265.1</td>\n",
       "      <td>1061.2</td>\n",
       "      <td>0.00686</td>\n",
       "      <td>1.870450e+00</td>\n",
       "      <td>-0.100989</td>\n",
       "    </tr>\n",
       "  </tbody>\n",
       "</table>\n",
       "<p>43740 rows × 7 columns</p>\n",
       "</div>"
      ],
      "text/plain": [
       "         hr   avg_bp     amp     rho       mu           wss        qf\n",
       "0      70.0  12352.5  5465.3  1055.0  0.00552  2.340000e-08 -0.000003\n",
       "1      72.0  12352.5  5465.3  1055.0  0.00552  2.220000e-08 -0.000003\n",
       "2      73.0  12352.5  5465.3  1055.0  0.00552  2.170000e-08 -0.000003\n",
       "3      70.0  12352.5  5465.3  1055.0  0.00552  2.320000e-08 -0.000003\n",
       "4      72.0  12352.5  5465.3  1055.0  0.00552  2.210000e-08 -0.000003\n",
       "...     ...      ...     ...     ...      ...           ...       ...\n",
       "43735  72.0  13818.8  6265.1  1061.2  0.00686  2.741220e+00 -0.210993\n",
       "43736  73.0  13818.8  6265.1  1061.2  0.00686  2.666640e+00 -0.205252\n",
       "43737  70.0  13818.8  6265.1  1061.2  0.00686  2.034210e+00 -0.109831\n",
       "43738  72.0  13818.8  6265.1  1061.2  0.00686  1.922770e+00 -0.103814\n",
       "43739  73.0  13818.8  6265.1  1061.2  0.00686  1.870450e+00 -0.100989\n",
       "\n",
       "[43740 rows x 7 columns]"
      ]
     },
     "execution_count": 6,
     "metadata": {},
     "output_type": "execute_result"
    }
   ],
   "source": [
    "df1"
   ]
  },
  {
   "cell_type": "markdown",
   "metadata": {},
   "source": [
    "# Linear Regression"
   ]
  },
  {
   "cell_type": "code",
   "execution_count": 7,
   "metadata": {},
   "outputs": [],
   "source": [
    "#Application of univariate linear regression"
   ]
  },
  {
   "cell_type": "code",
   "execution_count": 8,
   "metadata": {},
   "outputs": [
    {
     "data": {
      "text/html": [
       "<div>\n",
       "<style scoped>\n",
       "    .dataframe tbody tr th:only-of-type {\n",
       "        vertical-align: middle;\n",
       "    }\n",
       "\n",
       "    .dataframe tbody tr th {\n",
       "        vertical-align: top;\n",
       "    }\n",
       "\n",
       "    .dataframe thead th {\n",
       "        text-align: right;\n",
       "    }\n",
       "</style>\n",
       "<table border=\"1\" class=\"dataframe\">\n",
       "  <thead>\n",
       "    <tr style=\"text-align: right;\">\n",
       "      <th></th>\n",
       "      <th>hr</th>\n",
       "      <th>wss</th>\n",
       "    </tr>\n",
       "  </thead>\n",
       "  <tbody>\n",
       "    <tr>\n",
       "      <th>0</th>\n",
       "      <td>70.0</td>\n",
       "      <td>2.340000e-08</td>\n",
       "    </tr>\n",
       "    <tr>\n",
       "      <th>1</th>\n",
       "      <td>72.0</td>\n",
       "      <td>2.220000e-08</td>\n",
       "    </tr>\n",
       "    <tr>\n",
       "      <th>2</th>\n",
       "      <td>73.0</td>\n",
       "      <td>2.170000e-08</td>\n",
       "    </tr>\n",
       "    <tr>\n",
       "      <th>3</th>\n",
       "      <td>70.0</td>\n",
       "      <td>2.320000e-08</td>\n",
       "    </tr>\n",
       "    <tr>\n",
       "      <th>4</th>\n",
       "      <td>72.0</td>\n",
       "      <td>2.210000e-08</td>\n",
       "    </tr>\n",
       "  </tbody>\n",
       "</table>\n",
       "</div>"
      ],
      "text/plain": [
       "     hr           wss\n",
       "0  70.0  2.340000e-08\n",
       "1  72.0  2.220000e-08\n",
       "2  73.0  2.170000e-08\n",
       "3  70.0  2.320000e-08\n",
       "4  72.0  2.210000e-08"
      ]
     },
     "execution_count": 8,
     "metadata": {},
     "output_type": "execute_result"
    }
   ],
   "source": [
    "df2=df1[['hr','wss']]\n",
    "df2.head()"
   ]
  },
  {
   "cell_type": "code",
   "execution_count": 9,
   "metadata": {},
   "outputs": [
    {
     "data": {
      "text/plain": [
       "<matplotlib.collections.PathCollection at 0x264c2f7b908>"
      ]
     },
     "execution_count": 9,
     "metadata": {},
     "output_type": "execute_result"
    },
    {
     "data": {
      "image/png": "[encoded data removed]",
      "text/plain": [
       "<Figure size 432x288 with 1 Axes>"
      ]
     },
     "metadata": {
      "needs_background": "light"
     },
     "output_type": "display_data"
    }
   ],
   "source": [
    "%matplotlib inline \n",
    "plt.xlabel('heart rate')\n",
    "plt.ylabel('wall shear stress')\n",
    "plt.scatter(df2.hr,df2.wss,color = 'red',marker = '+')"
   ]
  },
  {
   "cell_type": "code",
   "execution_count": 10,
   "metadata": {
    "scrolled": true
   },
   "outputs": [
    {
     "data": {
      "text/plain": [
       "LinearRegression(copy_X=True, fit_intercept=True, n_jobs=None, normalize=False)"
      ]
     },
     "execution_count": 10,
     "metadata": {},
     "output_type": "execute_result"
    }
   ],
   "source": [
    "reg = linear_model.LinearRegression()\n",
    "reg.fit(df2[['hr']],df2.wss)"
   ]
  },
  {
   "cell_type": "code",
   "execution_count": 11,
   "metadata": {},
   "outputs": [
    {
     "data": {
      "text/plain": [
       "array([0.59601363])"
      ]
     },
     "execution_count": 11,
     "metadata": {},
     "output_type": "execute_result"
    }
   ],
   "source": [
    "#predictign wss based on given heart rate\n",
    "reg.predict([[72]])"
   ]
  },
  {
   "cell_type": "code",
   "execution_count": 12,
   "metadata": {
    "scrolled": true
   },
   "outputs": [
    {
     "data": {
      "text/plain": [
       "[<matplotlib.lines.Line2D at 0x264c37cce88>]"
      ]
     },
     "execution_count": 12,
     "metadata": {},
     "output_type": "execute_result"
    },
    {
     "data": {
      "image/png": "[encoded data removed]",
      "text/plain": [
       "<Figure size 432x288 with 1 Axes>"
      ]
     },
     "metadata": {
      "needs_background": "light"
     },
     "output_type": "display_data"
    }
   ],
   "source": [
    "%matplotlib inline \n",
    "plt.xlabel('heart rate')\n",
    "plt.ylabel('wall shear stress')\n",
    "plt.scatter(df2.hr,df2.wss,color = 'red',marker = '+')\n",
    "plt.plot(df2.hr,reg.predict(df2[['hr']]),color = 'blue')"
   ]
  },
  {
   "cell_type": "code",
   "execution_count": 13,
   "metadata": {},
   "outputs": [],
   "source": [
    "#application of multivariate linear regression"
   ]
  },
  {
   "cell_type": "code",
   "execution_count": 14,
   "metadata": {},
   "outputs": [
    {
     "data": {
      "text/plain": [
       "LinearRegression(copy_X=True, fit_intercept=True, n_jobs=None, normalize=False)"
      ]
     },
     "execution_count": 14,
     "metadata": {},
     "output_type": "execute_result"
    }
   ],
   "source": [
    "reg = linear_model.LinearRegression()\n",
    "reg.fit(df1[['hr','avg_bp','amp']],df1.wss)\n"
   ]
  },
  {
   "cell_type": "code",
   "execution_count": 15,
   "metadata": {},
   "outputs": [
    {
     "data": {
      "text/plain": [
       "array([0.61799824])"
      ]
     },
     "execution_count": 15,
     "metadata": {},
     "output_type": "execute_result"
    }
   ],
   "source": [
    "reg.predict([[74,12400,6000]])"
   ]
  },
  {
   "cell_type": "markdown",
   "metadata": {},
   "source": [
    "# Logistic Regression (binary)"
   ]
  },
  {
   "cell_type": "code",
   "execution_count": 16,
   "metadata": {},
   "outputs": [
    {
     "data": {
      "text/html": [
       "<div>\n",
       "<style scoped>\n",
       "    .dataframe tbody tr th:only-of-type {\n",
       "        vertical-align: middle;\n",
       "    }\n",
       "\n",
       "    .dataframe tbody tr th {\n",
       "        vertical-align: top;\n",
       "    }\n",
       "\n",
       "    .dataframe thead th {\n",
       "        text-align: right;\n",
       "    }\n",
       "</style>\n",
       "<table border=\"1\" class=\"dataframe\">\n",
       "  <thead>\n",
       "    <tr style=\"text-align: right;\">\n",
       "      <th></th>\n",
       "      <th>avg_bp</th>\n",
       "      <th>wss</th>\n",
       "    </tr>\n",
       "  </thead>\n",
       "  <tbody>\n",
       "    <tr>\n",
       "      <th>0</th>\n",
       "      <td>12352.5</td>\n",
       "      <td>2.340000e-08</td>\n",
       "    </tr>\n",
       "    <tr>\n",
       "      <th>1</th>\n",
       "      <td>12352.5</td>\n",
       "      <td>2.220000e-08</td>\n",
       "    </tr>\n",
       "    <tr>\n",
       "      <th>2</th>\n",
       "      <td>12352.5</td>\n",
       "      <td>2.170000e-08</td>\n",
       "    </tr>\n",
       "    <tr>\n",
       "      <th>3</th>\n",
       "      <td>12352.5</td>\n",
       "      <td>2.320000e-08</td>\n",
       "    </tr>\n",
       "    <tr>\n",
       "      <th>4</th>\n",
       "      <td>12352.5</td>\n",
       "      <td>2.210000e-08</td>\n",
       "    </tr>\n",
       "  </tbody>\n",
       "</table>\n",
       "</div>"
      ],
      "text/plain": [
       "    avg_bp           wss\n",
       "0  12352.5  2.340000e-08\n",
       "1  12352.5  2.220000e-08\n",
       "2  12352.5  2.170000e-08\n",
       "3  12352.5  2.320000e-08\n",
       "4  12352.5  2.210000e-08"
      ]
     },
     "execution_count": 16,
     "metadata": {},
     "output_type": "execute_result"
    }
   ],
   "source": [
    "df3=df1[['avg_bp','wss']]\n",
    "df3.head()"
   ]
  },
  {
   "cell_type": "code",
   "execution_count": 17,
   "metadata": {},
   "outputs": [
    {
     "data": {
      "text/plain": [
       "4.495e-07"
      ]
     },
     "execution_count": 17,
     "metadata": {},
     "output_type": "execute_result"
    }
   ],
   "source": [
    "x = df3['wss'].median()\n",
    "x"
   ]
  },
  {
   "cell_type": "code",
   "execution_count": 18,
   "metadata": {},
   "outputs": [
    {
     "name": "stderr",
     "output_type": "stream",
     "text": [
      "C:\\Users\\ruthv\\anaconda3\\lib\\site-packages\\ipykernel_launcher.py:1: SettingWithCopyWarning: \n",
      "A value is trying to be set on a copy of a slice from a DataFrame\n",
      "\n",
      "See the caveats in the documentation: https://pandas.pydata.org/pandas-docs/stable/user_guide/indexing.html#returning-a-view-versus-a-copy\n",
      "  \"\"\"Entry point for launching an IPython kernel.\n",
      "C:\\Users\\ruthv\\anaconda3\\lib\\site-packages\\ipykernel_launcher.py:2: SettingWithCopyWarning: \n",
      "A value is trying to be set on a copy of a slice from a DataFrame\n",
      "\n",
      "See the caveats in the documentation: https://pandas.pydata.org/pandas-docs/stable/user_guide/indexing.html#returning-a-view-versus-a-copy\n",
      "  \n"
     ]
    }
   ],
   "source": [
    "df3['wss'].loc[(df3['wss']>x)] = 1\n",
    "df3['wss'].loc[(df3['wss']<x)] = 0"
   ]
  },
  {
   "cell_type": "code",
   "execution_count": 19,
   "metadata": {},
   "outputs": [
    {
     "data": {
      "text/html": [
       "<div>\n",
       "<style scoped>\n",
       "    .dataframe tbody tr th:only-of-type {\n",
       "        vertical-align: middle;\n",
       "    }\n",
       "\n",
       "    .dataframe tbody tr th {\n",
       "        vertical-align: top;\n",
       "    }\n",
       "\n",
       "    .dataframe thead th {\n",
       "        text-align: right;\n",
       "    }\n",
       "</style>\n",
       "<table border=\"1\" class=\"dataframe\">\n",
       "  <thead>\n",
       "    <tr style=\"text-align: right;\">\n",
       "      <th></th>\n",
       "      <th>avg_bp</th>\n",
       "      <th>wss</th>\n",
       "    </tr>\n",
       "  </thead>\n",
       "  <tbody>\n",
       "    <tr>\n",
       "      <th>0</th>\n",
       "      <td>12352.5</td>\n",
       "      <td>0.0</td>\n",
       "    </tr>\n",
       "    <tr>\n",
       "      <th>1</th>\n",
       "      <td>12352.5</td>\n",
       "      <td>0.0</td>\n",
       "    </tr>\n",
       "    <tr>\n",
       "      <th>2</th>\n",
       "      <td>12352.5</td>\n",
       "      <td>0.0</td>\n",
       "    </tr>\n",
       "    <tr>\n",
       "      <th>3</th>\n",
       "      <td>12352.5</td>\n",
       "      <td>0.0</td>\n",
       "    </tr>\n",
       "    <tr>\n",
       "      <th>4</th>\n",
       "      <td>12352.5</td>\n",
       "      <td>0.0</td>\n",
       "    </tr>\n",
       "    <tr>\n",
       "      <th>...</th>\n",
       "      <td>...</td>\n",
       "      <td>...</td>\n",
       "    </tr>\n",
       "    <tr>\n",
       "      <th>43735</th>\n",
       "      <td>13818.8</td>\n",
       "      <td>1.0</td>\n",
       "    </tr>\n",
       "    <tr>\n",
       "      <th>43736</th>\n",
       "      <td>13818.8</td>\n",
       "      <td>1.0</td>\n",
       "    </tr>\n",
       "    <tr>\n",
       "      <th>43737</th>\n",
       "      <td>13818.8</td>\n",
       "      <td>1.0</td>\n",
       "    </tr>\n",
       "    <tr>\n",
       "      <th>43738</th>\n",
       "      <td>13818.8</td>\n",
       "      <td>1.0</td>\n",
       "    </tr>\n",
       "    <tr>\n",
       "      <th>43739</th>\n",
       "      <td>13818.8</td>\n",
       "      <td>1.0</td>\n",
       "    </tr>\n",
       "  </tbody>\n",
       "</table>\n",
       "<p>43740 rows × 2 columns</p>\n",
       "</div>"
      ],
      "text/plain": [
       "        avg_bp  wss\n",
       "0      12352.5  0.0\n",
       "1      12352.5  0.0\n",
       "2      12352.5  0.0\n",
       "3      12352.5  0.0\n",
       "4      12352.5  0.0\n",
       "...        ...  ...\n",
       "43735  13818.8  1.0\n",
       "43736  13818.8  1.0\n",
       "43737  13818.8  1.0\n",
       "43738  13818.8  1.0\n",
       "43739  13818.8  1.0\n",
       "\n",
       "[43740 rows x 2 columns]"
      ]
     },
     "execution_count": 19,
     "metadata": {},
     "output_type": "execute_result"
    }
   ],
   "source": [
    "df3"
   ]
  },
  {
   "cell_type": "code",
   "execution_count": 20,
   "metadata": {},
   "outputs": [
    {
     "data": {
      "text/plain": [
       "<matplotlib.collections.PathCollection at 0x264c3867d08>"
      ]
     },
     "execution_count": 20,
     "metadata": {},
     "output_type": "execute_result"
    },
    {
     "data": {
      "image/png": "[encoded data removed]",
      "text/plain": [
       "<Figure size 432x288 with 1 Axes>"
      ]
     },
     "metadata": {
      "needs_background": "light"
     },
     "output_type": "display_data"
    }
   ],
   "source": [
    "%matplotlib inline\n",
    "plt.xlabel('average_bp',size = '12')\n",
    "plt.ylabel('wall shear stress',size = '12')\n",
    "plt.scatter(df3.avg_bp,df3.wss,color = 'red', marker = '+')"
   ]
  },
  {
   "cell_type": "code",
   "execution_count": 21,
   "metadata": {},
   "outputs": [],
   "source": [
    "from sklearn.model_selection import train_test_split\n",
    "x_train,x_test,y_train,y_test = train_test_split(df3[['avg_bp']],df3.wss,test_size = 0.1)"
   ]
  },
  {
   "cell_type": "code",
   "execution_count": 22,
   "metadata": {},
   "outputs": [
    {
     "data": {
      "text/plain": [
       "LogisticRegression(C=1.0, class_weight=None, dual=False, fit_intercept=True,\n",
       "                   intercept_scaling=1, l1_ratio=None, max_iter=100,\n",
       "                   multi_class='auto', n_jobs=None, penalty='l2',\n",
       "                   random_state=None, solver='lbfgs', tol=0.0001, verbose=0,\n",
       "                   warm_start=False)"
      ]
     },
     "execution_count": 22,
     "metadata": {},
     "output_type": "execute_result"
    }
   ],
   "source": [
    "from sklearn.linear_model import LogisticRegression\n",
    "model = LogisticRegression()\n",
    "model.fit(df3[['avg_bp']],df3.wss)"
   ]
  },
  {
   "cell_type": "code",
   "execution_count": 23,
   "metadata": {},
   "outputs": [
    {
     "data": {
      "text/plain": [
       "array([0., 0., 0., ..., 0., 0., 0.])"
      ]
     },
     "execution_count": 23,
     "metadata": {},
     "output_type": "execute_result"
    }
   ],
   "source": [
    "model.predict(x_test)"
   ]
  },
  {
   "cell_type": "code",
   "execution_count": 24,
   "metadata": {},
   "outputs": [
    {
     "data": {
      "text/plain": [
       "array([[0.5, 0.5],\n",
       "       [0.5, 0.5],\n",
       "       [0.5, 0.5],\n",
       "       ...,\n",
       "       [0.5, 0.5],\n",
       "       [0.5, 0.5],\n",
       "       [0.5, 0.5]])"
      ]
     },
     "execution_count": 24,
     "metadata": {},
     "output_type": "execute_result"
    }
   ],
   "source": [
    "model.predict_proba(x_test)"
   ]
  },
  {
   "cell_type": "code",
   "execution_count": 25,
   "metadata": {},
   "outputs": [
    {
     "data": {
      "text/plain": [
       "0.5034293552812071"
      ]
     },
     "execution_count": 25,
     "metadata": {},
     "output_type": "execute_result"
    }
   ],
   "source": [
    "model.score(x_test,y_test)"
   ]
  },
  {
   "cell_type": "markdown",
   "metadata": {},
   "source": [
    "# Neural Networks (gradient descent approach)"
   ]
  },
  {
   "cell_type": "code",
   "execution_count": 29,
   "metadata": {},
   "outputs": [
    {
     "data": {
      "text/html": [
       "<div>\n",
       "<style scoped>\n",
       "    .dataframe tbody tr th:only-of-type {\n",
       "        vertical-align: middle;\n",
       "    }\n",
       "\n",
       "    .dataframe tbody tr th {\n",
       "        vertical-align: top;\n",
       "    }\n",
       "\n",
       "    .dataframe thead th {\n",
       "        text-align: right;\n",
       "    }\n",
       "</style>\n",
       "<table border=\"1\" class=\"dataframe\">\n",
       "  <thead>\n",
       "    <tr style=\"text-align: right;\">\n",
       "      <th></th>\n",
       "      <th>hr</th>\n",
       "      <th>avg_bp</th>\n",
       "      <th>wss</th>\n",
       "      <th>qf</th>\n",
       "    </tr>\n",
       "  </thead>\n",
       "  <tbody>\n",
       "    <tr>\n",
       "      <th>0</th>\n",
       "      <td>70.0</td>\n",
       "      <td>12352.5</td>\n",
       "      <td>2.340000e-08</td>\n",
       "      <td>-0.000003</td>\n",
       "    </tr>\n",
       "    <tr>\n",
       "      <th>1</th>\n",
       "      <td>72.0</td>\n",
       "      <td>12352.5</td>\n",
       "      <td>2.220000e-08</td>\n",
       "      <td>-0.000003</td>\n",
       "    </tr>\n",
       "    <tr>\n",
       "      <th>2</th>\n",
       "      <td>73.0</td>\n",
       "      <td>12352.5</td>\n",
       "      <td>2.170000e-08</td>\n",
       "      <td>-0.000003</td>\n",
       "    </tr>\n",
       "    <tr>\n",
       "      <th>3</th>\n",
       "      <td>70.0</td>\n",
       "      <td>12352.5</td>\n",
       "      <td>2.320000e-08</td>\n",
       "      <td>-0.000003</td>\n",
       "    </tr>\n",
       "    <tr>\n",
       "      <th>4</th>\n",
       "      <td>72.0</td>\n",
       "      <td>12352.5</td>\n",
       "      <td>2.210000e-08</td>\n",
       "      <td>-0.000003</td>\n",
       "    </tr>\n",
       "    <tr>\n",
       "      <th>...</th>\n",
       "      <td>...</td>\n",
       "      <td>...</td>\n",
       "      <td>...</td>\n",
       "      <td>...</td>\n",
       "    </tr>\n",
       "    <tr>\n",
       "      <th>43735</th>\n",
       "      <td>72.0</td>\n",
       "      <td>13818.8</td>\n",
       "      <td>2.741220e+00</td>\n",
       "      <td>-0.210993</td>\n",
       "    </tr>\n",
       "    <tr>\n",
       "      <th>43736</th>\n",
       "      <td>73.0</td>\n",
       "      <td>13818.8</td>\n",
       "      <td>2.666640e+00</td>\n",
       "      <td>-0.205252</td>\n",
       "    </tr>\n",
       "    <tr>\n",
       "      <th>43737</th>\n",
       "      <td>70.0</td>\n",
       "      <td>13818.8</td>\n",
       "      <td>2.034210e+00</td>\n",
       "      <td>-0.109831</td>\n",
       "    </tr>\n",
       "    <tr>\n",
       "      <th>43738</th>\n",
       "      <td>72.0</td>\n",
       "      <td>13818.8</td>\n",
       "      <td>1.922770e+00</td>\n",
       "      <td>-0.103814</td>\n",
       "    </tr>\n",
       "    <tr>\n",
       "      <th>43739</th>\n",
       "      <td>73.0</td>\n",
       "      <td>13818.8</td>\n",
       "      <td>1.870450e+00</td>\n",
       "      <td>-0.100989</td>\n",
       "    </tr>\n",
       "  </tbody>\n",
       "</table>\n",
       "<p>43740 rows × 4 columns</p>\n",
       "</div>"
      ],
      "text/plain": [
       "         hr   avg_bp           wss        qf\n",
       "0      70.0  12352.5  2.340000e-08 -0.000003\n",
       "1      72.0  12352.5  2.220000e-08 -0.000003\n",
       "2      73.0  12352.5  2.170000e-08 -0.000003\n",
       "3      70.0  12352.5  2.320000e-08 -0.000003\n",
       "4      72.0  12352.5  2.210000e-08 -0.000003\n",
       "...     ...      ...           ...       ...\n",
       "43735  72.0  13818.8  2.741220e+00 -0.210993\n",
       "43736  73.0  13818.8  2.666640e+00 -0.205252\n",
       "43737  70.0  13818.8  2.034210e+00 -0.109831\n",
       "43738  72.0  13818.8  1.922770e+00 -0.103814\n",
       "43739  73.0  13818.8  1.870450e+00 -0.100989\n",
       "\n",
       "[43740 rows x 4 columns]"
      ]
     },
     "execution_count": 29,
     "metadata": {},
     "output_type": "execute_result"
    }
   ],
   "source": [
    "df4=df1[['hr','avg_bp','wss','qf']]\n",
    "df4"
   ]
  },
  {
   "cell_type": "code",
   "execution_count": 28,
   "metadata": {},
   "outputs": [],
   "source": [
    "import numpy as np\n",
    "import tensorflow as tf\n",
    "from tensorflow import keras\n",
    "import pandas as pd\n",
    "from matplotlib import pyplot as plt\n",
    "%matplotlib inline"
   ]
  },
  {
   "cell_type": "code",
   "execution_count": 30,
   "metadata": {},
   "outputs": [
    {
     "name": "stderr",
     "output_type": "stream",
     "text": [
      "C:\\Users\\ruthv\\anaconda3\\lib\\site-packages\\ipykernel_launcher.py:1: SettingWithCopyWarning: \n",
      "A value is trying to be set on a copy of a slice from a DataFrame\n",
      "\n",
      "See the caveats in the documentation: https://pandas.pydata.org/pandas-docs/stable/user_guide/indexing.html#returning-a-view-versus-a-copy\n",
      "  \"\"\"Entry point for launching an IPython kernel.\n",
      "C:\\Users\\ruthv\\anaconda3\\lib\\site-packages\\ipykernel_launcher.py:2: SettingWithCopyWarning: \n",
      "A value is trying to be set on a copy of a slice from a DataFrame\n",
      "\n",
      "See the caveats in the documentation: https://pandas.pydata.org/pandas-docs/stable/user_guide/indexing.html#returning-a-view-versus-a-copy\n",
      "  \n"
     ]
    }
   ],
   "source": [
    "df4['wss'].loc[(df4['wss']>x)] = 1\n",
    "df4['wss'].loc[(df4['wss']<x)] = 0"
   ]
  },
  {
   "cell_type": "code",
   "execution_count": 31,
   "metadata": {},
   "outputs": [
    {
     "data": {
      "text/plain": [
       "-4.8441e-05"
      ]
     },
     "execution_count": 31,
     "metadata": {},
     "output_type": "execute_result"
    }
   ],
   "source": [
    "y=df4['qf'].median()\n",
    "y"
   ]
  },
  {
   "cell_type": "code",
   "execution_count": 33,
   "metadata": {},
   "outputs": [
    {
     "name": "stderr",
     "output_type": "stream",
     "text": [
      "C:\\Users\\ruthv\\anaconda3\\lib\\site-packages\\ipykernel_launcher.py:1: SettingWithCopyWarning: \n",
      "A value is trying to be set on a copy of a slice from a DataFrame\n",
      "\n",
      "See the caveats in the documentation: https://pandas.pydata.org/pandas-docs/stable/user_guide/indexing.html#returning-a-view-versus-a-copy\n",
      "  \"\"\"Entry point for launching an IPython kernel.\n",
      "C:\\Users\\ruthv\\anaconda3\\lib\\site-packages\\ipykernel_launcher.py:2: SettingWithCopyWarning: \n",
      "A value is trying to be set on a copy of a slice from a DataFrame\n",
      "\n",
      "See the caveats in the documentation: https://pandas.pydata.org/pandas-docs/stable/user_guide/indexing.html#returning-a-view-versus-a-copy\n",
      "  \n"
     ]
    }
   ],
   "source": [
    "df4['qf'].loc[(df4['qf']>y)] = 1\n",
    "df4['qf'].loc[(df4['qf']<y)] = 0"
   ]
  },
  {
   "cell_type": "code",
   "execution_count": 34,
   "metadata": {},
   "outputs": [
    {
     "data": {
      "text/html": [
       "<div>\n",
       "<style scoped>\n",
       "    .dataframe tbody tr th:only-of-type {\n",
       "        vertical-align: middle;\n",
       "    }\n",
       "\n",
       "    .dataframe tbody tr th {\n",
       "        vertical-align: top;\n",
       "    }\n",
       "\n",
       "    .dataframe thead th {\n",
       "        text-align: right;\n",
       "    }\n",
       "</style>\n",
       "<table border=\"1\" class=\"dataframe\">\n",
       "  <thead>\n",
       "    <tr style=\"text-align: right;\">\n",
       "      <th></th>\n",
       "      <th>hr</th>\n",
       "      <th>avg_bp</th>\n",
       "      <th>wss</th>\n",
       "      <th>qf</th>\n",
       "    </tr>\n",
       "  </thead>\n",
       "  <tbody>\n",
       "    <tr>\n",
       "      <th>0</th>\n",
       "      <td>70.0</td>\n",
       "      <td>12352.5</td>\n",
       "      <td>0.0</td>\n",
       "      <td>1.0</td>\n",
       "    </tr>\n",
       "    <tr>\n",
       "      <th>1</th>\n",
       "      <td>72.0</td>\n",
       "      <td>12352.5</td>\n",
       "      <td>0.0</td>\n",
       "      <td>1.0</td>\n",
       "    </tr>\n",
       "    <tr>\n",
       "      <th>2</th>\n",
       "      <td>73.0</td>\n",
       "      <td>12352.5</td>\n",
       "      <td>0.0</td>\n",
       "      <td>1.0</td>\n",
       "    </tr>\n",
       "    <tr>\n",
       "      <th>3</th>\n",
       "      <td>70.0</td>\n",
       "      <td>12352.5</td>\n",
       "      <td>0.0</td>\n",
       "      <td>1.0</td>\n",
       "    </tr>\n",
       "    <tr>\n",
       "      <th>4</th>\n",
       "      <td>72.0</td>\n",
       "      <td>12352.5</td>\n",
       "      <td>0.0</td>\n",
       "      <td>1.0</td>\n",
       "    </tr>\n",
       "  </tbody>\n",
       "</table>\n",
       "</div>"
      ],
      "text/plain": [
       "     hr   avg_bp  wss   qf\n",
       "0  70.0  12352.5  0.0  1.0\n",
       "1  72.0  12352.5  0.0  1.0\n",
       "2  73.0  12352.5  0.0  1.0\n",
       "3  70.0  12352.5  0.0  1.0\n",
       "4  72.0  12352.5  0.0  1.0"
      ]
     },
     "execution_count": 34,
     "metadata": {},
     "output_type": "execute_result"
    }
   ],
   "source": [
    "df4.head()"
   ]
  }
 ],
 "metadata": {
  "kernelspec": {
   "display_name": "Python 3",
   "language": "python",
   "name": "python3"
  },
  "language_info": {
   "codemirror_mode": {
    "name": "ipython",
    "version": 3
   },
   "file_extension": ".py",
   "mimetype": "text/x-python",
   "name": "python",
   "nbconvert_exporter": "python",
   "pygments_lexer": "ipython3",
   "version": "3.7.6"
  }
 },
 "nbformat": 4,
 "nbformat_minor": 4
}
